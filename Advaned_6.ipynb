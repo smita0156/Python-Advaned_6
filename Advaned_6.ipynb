{
 "cells": [
  {
   "cell_type": "code",
   "execution_count": null,
   "id": "b606c76e-3400-447a-8edf-48a69c5b24c6",
   "metadata": {},
   "outputs": [],
   "source": [
    "Q1. Describe three applications for exception processing."
   ]
  },
  {
   "cell_type": "code",
   "execution_count": null,
   "id": "a9bde430-a432-411e-83a9-d2af842565d0",
   "metadata": {},
   "outputs": [],
   "source": [
    "a) OverflowError\tRaised when the result of a numeric calculation is too large"
   ]
  },
  {
   "cell_type": "code",
   "execution_count": null,
   "id": "23395dc6-39ab-4959-bf23-7427af455b0a",
   "metadata": {},
   "outputs": [],
   "source": [
    "b) ReferenceError\tRaised when a weak reference object does not exist"
   ]
  },
  {
   "cell_type": "code",
   "execution_count": null,
   "id": "6a5673b6-1978-4288-9185-94fd88af6f9d",
   "metadata": {},
   "outputs": [],
   "source": [
    "c) RuntimeError\tRaised when an error occurs that do not belong to any specific exceptions"
   ]
  },
  {
   "cell_type": "code",
   "execution_count": null,
   "id": "0afbd4dc-5fc0-469c-a7cf-6645ae30c64a",
   "metadata": {},
   "outputs": [],
   "source": [
    "Q2. What happens if you don't do something extra to treat an exception?"
   ]
  },
  {
   "cell_type": "code",
   "execution_count": null,
   "id": "cfa6030a-dd0e-40e7-b19d-ce96c55a29cd",
   "metadata": {},
   "outputs": [],
   "source": [
    "Then one can't handle the exceptions, and the program will crash."
   ]
  },
  {
   "cell_type": "code",
   "execution_count": null,
   "id": "663c259a-1cce-4bb3-b071-a78d7913535c",
   "metadata": {},
   "outputs": [],
   "source": [
    "The program terminates abruptly and the code past the line that caused the exception will not get executed."
   ]
  },
  {
   "cell_type": "code",
   "execution_count": null,
   "id": "871e33a1-5207-45f2-90cd-3b60d490458b",
   "metadata": {},
   "outputs": [],
   "source": [
    "Q3. What are your options for recovering from an exception in your script?"
   ]
  },
  {
   "cell_type": "code",
   "execution_count": null,
   "id": "083822d9-7bcd-4e85-8bff-97125e36a653",
   "metadata": {},
   "outputs": [],
   "source": [
    "If the exception is not handled by an except clause, the exception is re-raised after the finally clause has been executed."
   ]
  },
  {
   "cell_type": "code",
   "execution_count": null,
   "id": "0c15eaf9-f72b-4b97-842c-dd50e5b7a7c7",
   "metadata": {},
   "outputs": [],
   "source": [
    "Q4. Describe two methods for triggering exceptions in your script."
   ]
  },
  {
   "cell_type": "code",
   "execution_count": null,
   "id": "da2f14cf-5974-48d6-9330-a6036d6243f9",
   "metadata": {},
   "outputs": [],
   "source": [
    "Try – This method catches the exceptions raised by the program. \n",
    "Raise – Triggers an exception manually using custom exceptions."
   ]
  },
  {
   "cell_type": "code",
   "execution_count": null,
   "id": "1ff5d969-8ac6-4d03-bfc5-b8d1df7545fa",
   "metadata": {},
   "outputs": [],
   "source": [
    "Q5. Identify two methods for specifying actions to be executed at termination time, regardless of\n",
    "whether or not an exception exists."
   ]
  },
  {
   "cell_type": "code",
   "execution_count": null,
   "id": "7382a772-e75e-4c87-bfba-b22b15e3ab38",
   "metadata": {},
   "outputs": [],
   "source": [
    "Allows to specify termination or cleanup actions, irrespective of exceptions occur or not. raise – You can use it to trigger an exception manually in your code. assert – You can use it to trigger an exception in your code conditionally."
   ]
  },
  {
   "cell_type": "code",
   "execution_count": null,
   "id": "c9031cb5-3460-46d1-9a8a-d8b5bf1493b1",
   "metadata": {},
   "outputs": [],
   "source": []
  }
 ],
 "metadata": {
  "kernelspec": {
   "display_name": "Python 3 (ipykernel)",
   "language": "python",
   "name": "python3"
  },
  "language_info": {
   "codemirror_mode": {
    "name": "ipython",
    "version": 3
   },
   "file_extension": ".py",
   "mimetype": "text/x-python",
   "name": "python",
   "nbconvert_exporter": "python",
   "pygments_lexer": "ipython3",
   "version": "3.10.6"
  }
 },
 "nbformat": 4,
 "nbformat_minor": 5
}
